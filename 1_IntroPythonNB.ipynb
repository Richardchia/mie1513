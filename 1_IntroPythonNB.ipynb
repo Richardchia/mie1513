{
 "cells": [
  {
   "cell_type": "markdown",
   "metadata": {},
   "source": [
    "# Lab 1: Jupyter and Basic Python"
   ]
  },
  {
   "cell_type": "markdown",
   "metadata": {},
   "source": [
    "In this lab, you will load and perform a basic analysis of a text using python in a Jupyter interactive notebook.\n",
    "\n",
    "Follow the instruction and run the code cells. Make sure you understand what happens in every stage."
   ]
  },
  {
   "cell_type": "markdown",
   "metadata": {},
   "source": [
    "## Getting the data\n",
    "Following is a code snippet that download a file and save it locally. We will download the poem \"HOWL\" by Allen Ginsberg and save it locally to file named \"howl.txt\""
   ]
  },
  {
   "cell_type": "code",
   "execution_count": 12,
   "metadata": {},
   "outputs": [],
   "source": [
    "DOWNLOAD_URL = \"http://www.everyday-beat.org/ginsberg/poems/howl.txt\"\n",
    "SAVE_URL = \"howl.txt\""
   ]
  },
  {
   "cell_type": "code",
   "execution_count": 14,
   "metadata": {},
   "outputs": [],
   "source": [
    "from urllib.request import urlopen\n",
    "\n",
    "downloadedText = urlopen(DOWNLOAD_URL).read().decode('utf-8')\n",
    "with open(SAVE_URL, \"w\") as file:\n",
    "    file.write(downloadedText)"
   ]
  },
  {
   "cell_type": "markdown",
   "metadata": {},
   "source": [
    "-----------\n",
    "## Loading the data\n",
    "* First we open the file using *open()*\n",
    "* **Make sure the file path is correct**"
   ]
  },
  {
   "cell_type": "code",
   "execution_count": 16,
   "metadata": {},
   "outputs": [],
   "source": [
    "with open(\"howl.txt\", \"r\") as poemFile:\n",
    "    poemText = poemFile.read()"
   ]
  },
  {
   "cell_type": "markdown",
   "metadata": {},
   "source": [
    "----------\n",
    "## Review the data\n",
    "Lets print the first 500 character of the text"
   ]
  },
  {
   "cell_type": "code",
   "execution_count": 18,
   "metadata": {},
   "outputs": [
    {
     "name": "stdout",
     "output_type": "stream",
     "text": [
      "\n",
      "                          HOWL\n",
      "\n",
      "                    For Carl Solomon \n",
      "\n",
      "                           I \n",
      "\n",
      "       I saw the best minds of my generation destroyed by \n",
      "              madness, starving hysterical naked, \n",
      "       dragging themselves through the negro streets at dawn \n",
      "              looking for an angry fix, \n",
      "       angelheaded hipsters burning for the ancient heavenly \n",
      "              connection to the starry dynamo in the machin- \n",
      "              ery of night, \n",
      "       who poverty and tatters \n"
     ]
    }
   ],
   "source": [
    "print(poemText[0:500])"
   ]
  },
  {
   "cell_type": "markdown",
   "metadata": {},
   "source": [
    "----------\n",
    "Now, lets print the beginning of the second section. It start at character 16692:"
   ]
  },
  {
   "cell_type": "code",
   "execution_count": 26,
   "metadata": {},
   "outputs": [
    {
     "name": "stdout",
     "output_type": "stream",
     "text": [
      "                           II \n",
      "\n",
      "       What sphinx of cement and aluminum bashed open \n",
      "              their skulls and ate up their brains and imagi- \n",
      "              nation? \n",
      "       Moloch! Solitude! Filth! Ugliness! Ashcans and unob \n",
      "              tainable dollars! Children screaming under the \n",
      "              stairways! Boys sobbing in armies! Old men \n",
      "              weeping in the parks! \n",
      "       Moloch! Moloch! Nightmare of Moloch! Moloch the \n",
      "              loveless! Mental Moloch! Moloch the heavy \n",
      "              judger of men! \n",
      "       Moloch the incomprehensible prison! Moloch the \n",
      "              crossbone soulless jailhouse and Congress of \n",
      "              sorrows! Moloch whose buildings are judgment! \n",
      "              Moloch the vast stone of war! Moloch the stun- \n",
      "              ned governments! \n",
      "     \n"
     ]
    }
   ],
   "source": [
    "print(poemText[16692:17500])"
   ]
  },
  {
   "cell_type": "markdown",
   "metadata": {},
   "source": [
    "---------\n",
    "## Counting the number of lines in the story\n",
    "We start by splitting the text to a list of lines using *splitlines()*"
   ]
  },
  {
   "cell_type": "code",
   "execution_count": 27,
   "metadata": {},
   "outputs": [],
   "source": [
    "poemLines = poemText.splitlines()"
   ]
  },
  {
   "cell_type": "markdown",
   "metadata": {},
   "source": [
    "---------\n",
    "Now we print the first 10 lines:"
   ]
  },
  {
   "cell_type": "code",
   "execution_count": 28,
   "metadata": {},
   "outputs": [
    {
     "data": {
      "text/plain": [
       "['',\n",
       " '                          HOWL',\n",
       " '',\n",
       " '                    For Carl Solomon ',\n",
       " '',\n",
       " '                           I ',\n",
       " '',\n",
       " '       I saw the best minds of my generation destroyed by ',\n",
       " '              madness, starving hysterical naked, ',\n",
       " '       dragging themselves through the negro streets at dawn ']"
      ]
     },
     "execution_count": 28,
     "metadata": {},
     "output_type": "execute_result"
    }
   ],
   "source": [
    "poemLines[0:10]"
   ]
  },
  {
   "cell_type": "markdown",
   "metadata": {},
   "source": [
    "----------\n",
    "Last, we count the lines using *len()* method:"
   ]
  },
  {
   "cell_type": "code",
   "execution_count": 29,
   "metadata": {},
   "outputs": [
    {
     "name": "stdout",
     "output_type": "stream",
     "text": [
      "The number of lines in the text is: 445\n"
     ]
    }
   ],
   "source": [
    "print(\"The number of lines in the text is:\", len(poemLines))"
   ]
  },
  {
   "cell_type": "markdown",
   "metadata": {},
   "source": [
    "---------\n",
    "## Counting the number of words in the story\n",
    "We start by splitting the text to a list of words using *split()*"
   ]
  },
  {
   "cell_type": "code",
   "execution_count": 30,
   "metadata": {},
   "outputs": [],
   "source": [
    "poemWords = poemText.split()"
   ]
  },
  {
   "cell_type": "markdown",
   "metadata": {},
   "source": [
    "---------\n",
    "Now we print the first 10 words:"
   ]
  },
  {
   "cell_type": "code",
   "execution_count": 32,
   "metadata": {},
   "outputs": [
    {
     "data": {
      "text/plain": [
       "['HOWL', 'For', 'Carl', 'Solomon', 'I', 'I', 'saw', 'the', 'best', 'minds']"
      ]
     },
     "execution_count": 32,
     "metadata": {},
     "output_type": "execute_result"
    }
   ],
   "source": [
    "poemWords[:10]"
   ]
  },
  {
   "cell_type": "markdown",
   "metadata": {},
   "source": [
    "----------\n",
    "Last, we count the words using *len()* on the list of words:"
   ]
  },
  {
   "cell_type": "code",
   "execution_count": 33,
   "metadata": {},
   "outputs": [
    {
     "name": "stdout",
     "output_type": "stream",
     "text": [
      "The number of words in the text is: 2957\n"
     ]
    }
   ],
   "source": [
    "print(\"The number of words in the text is:\", len(poemWords))"
   ]
  },
  {
   "cell_type": "markdown",
   "metadata": {},
   "source": [
    "## Counting the number of occurrences of a word"
   ]
  },
  {
   "cell_type": "code",
   "execution_count": 45,
   "metadata": {},
   "outputs": [],
   "source": [
    "# first, initalize a words counter to 0\n",
    "wordsCounter = 0\n",
    "\n",
    "# for every word in the list storyWords\n",
    "for word in poemWords:\n",
    "    # strip non-alphanumeric character, and convert to lower case\n",
    "    if word.strip(\"\"\" ,.*()[]!@#$%^&*{}?'`\"-\"\"\").lower() == \"who\":\n",
    "        wordsCounter += 1"
   ]
  },
  {
   "cell_type": "code",
   "execution_count": 46,
   "metadata": {},
   "outputs": [
    {
     "name": "stdout",
     "output_type": "stream",
     "text": [
      "The number of occurrences of 'Who' is: 68\n"
     ]
    }
   ],
   "source": [
    "print(\"The number of occurrences of 'Who' is:\", wordsCounter)"
   ]
  },
  {
   "cell_type": "markdown",
   "metadata": {},
   "source": [
    "## Counting the number of lines starting with a word"
   ]
  },
  {
   "cell_type": "code",
   "execution_count": 50,
   "metadata": {},
   "outputs": [],
   "source": [
    "linesCounter = 0\n",
    "for line in poemLines:\n",
    "    if line.lower().strip().startswith(\"who\"):\n",
    "        linesCounter += 1"
   ]
  },
  {
   "cell_type": "code",
   "execution_count": 51,
   "metadata": {},
   "outputs": [
    {
     "name": "stdout",
     "output_type": "stream",
     "text": [
      "The number of lines that start with the word 'Who' is: 64\n"
     ]
    }
   ],
   "source": [
    "print(\"The number of lines that start with the word 'Who' is:\", linesCounter)"
   ]
  },
  {
   "cell_type": "markdown",
   "metadata": {},
   "source": [
    "## Counting the number of different words"
   ]
  },
  {
   "cell_type": "code",
   "execution_count": 52,
   "metadata": {},
   "outputs": [],
   "source": [
    "# remove non-alphanumeric characters and convert to lower case\n",
    "cleanWords = [word.strip(\"\"\" ,.*()[]!@#$%^&*{}?'`\"-\"\"\").lower() \n",
    "               for word in poemWords]"
   ]
  },
  {
   "cell_type": "code",
   "execution_count": 53,
   "metadata": {},
   "outputs": [
    {
     "name": "stdout",
     "output_type": "stream",
     "text": [
      "number of different words:  1318\n"
     ]
    }
   ],
   "source": [
    "print(\"number of different words: \", len(list(set(cleanWords))))"
   ]
  },
  {
   "cell_type": "markdown",
   "metadata": {},
   "source": [
    "## Using *Counter* collection\n",
    "We can use *Counter* to count the frequency of every item in a list."
   ]
  },
  {
   "cell_type": "code",
   "execution_count": 54,
   "metadata": {},
   "outputs": [],
   "source": [
    "from collections import Counter\n",
    "wordsCounter = Counter(cleanWords)"
   ]
  },
  {
   "cell_type": "markdown",
   "metadata": {},
   "source": [
    "---------\n",
    "What is the number of occurrences of the word 'Christmas'?"
   ]
  },
  {
   "cell_type": "code",
   "execution_count": 57,
   "metadata": {},
   "outputs": [
    {
     "data": {
      "text/plain": [
       "68"
      ]
     },
     "execution_count": 57,
     "metadata": {},
     "output_type": "execute_result"
    }
   ],
   "source": [
    "wordsCounter[\"who\"]"
   ]
  },
  {
   "cell_type": "markdown",
   "metadata": {},
   "source": [
    "---------\n",
    "What are the 10 most common words?"
   ]
  },
  {
   "cell_type": "code",
   "execution_count": 58,
   "metadata": {},
   "outputs": [
    {
     "data": {
      "text/plain": [
       "[('the', 220),\n",
       " ('of', 139),\n",
       " ('and', 120),\n",
       " ('in', 111),\n",
       " ('who', 68),\n",
       " ('to', 58),\n",
       " ('with', 48),\n",
       " ('moloch', 39),\n",
       " ('a', 38),\n",
       " ('you', 32)]"
      ]
     },
     "execution_count": 58,
     "metadata": {},
     "output_type": "execute_result"
    }
   ],
   "source": [
    "wordsCounter.most_common(10)"
   ]
  },
  {
   "cell_type": "markdown",
   "metadata": {},
   "source": [
    "-------\n",
    "## Finding a phrase in the text\n",
    "\n",
    "Let find the first occurrence of the phrase \"Canada\" in the text."
   ]
  },
  {
   "cell_type": "code",
   "execution_count": 60,
   "metadata": {},
   "outputs": [
    {
     "data": {
      "text/plain": [
       "1845"
      ]
     },
     "execution_count": 60,
     "metadata": {},
     "output_type": "execute_result"
    }
   ],
   "source": [
    "poemText.find(\"Canada\")"
   ]
  },
  {
   "cell_type": "markdown",
   "metadata": {},
   "source": [
    "-------\n",
    "Lets examine the text around this position"
   ]
  },
  {
   "cell_type": "code",
   "execution_count": 70,
   "metadata": {},
   "outputs": [
    {
     "name": "stdout",
     "output_type": "stream",
     "text": [
      " mind leaping toward poles of \n",
      "              Canada & Paterson, illuminating all the mo- \n",
      "          \n"
     ]
    }
   ],
   "source": [
    "print(poemText[1800:1900])"
   ]
  },
  {
   "cell_type": "code",
   "execution_count": null,
   "metadata": {
    "collapsed": true
   },
   "outputs": [],
   "source": []
  }
 ],
 "metadata": {
  "kernelspec": {
   "display_name": "Python [conda env:mie451-lab1]",
   "language": "python",
   "name": "conda-env-mie451-lab1-py"
  },
  "language_info": {
   "codemirror_mode": {
    "name": "ipython",
    "version": 3
   },
   "file_extension": ".py",
   "mimetype": "text/x-python",
   "name": "python",
   "nbconvert_exporter": "python",
   "pygments_lexer": "ipython3",
   "version": "3.6.6"
  },
  "widgets": {
   "state": {},
   "version": "1.1.2"
  }
 },
 "nbformat": 4,
 "nbformat_minor": 1
}
